{
  "cells": [
    {
      "cell_type": "markdown",
      "metadata": {
        "id": "view-in-github",
        "colab_type": "text"
      },
      "source": [
        "<a href=\"https://colab.research.google.com/github/yt203y/20240522_GROMACS_introduction-fromepcced/blob/gh-pages/2023_workshop_Torun.ipynb\" target=\"_parent\"><img src=\"https://colab.research.google.com/assets/colab-badge.svg\" alt=\"Open In Colab\"/></a>"
      ]
    },
    {
      "cell_type": "markdown",
      "metadata": {
        "id": "IEXxPWWuoAh1"
      },
      "source": [
        "# Bootstrap"
      ]
    },
    {
      "cell_type": "markdown",
      "metadata": {
        "id": "8ukE-g9nhHrL"
      },
      "source": [
        "Prepare necessary files:\n",
        "\n",
        "(you can try \"Edit\" > \"Clear all outputs\" after it's been done)"
      ]
    },
    {
      "cell_type": "code",
      "execution_count": null,
      "metadata": {
        "id": "yVnyGoGJ8svH"
      },
      "outputs": [],
      "source": [
        "!pip install ase\n",
        "!pip install torchani\n",
        "!pip install pyscf\n",
        "!pip install mkl-service"
      ]
    },
    {
      "cell_type": "code",
      "execution_count": null,
      "metadata": {
        "id": "s5uZ6R9ZhLor"
      },
      "outputs": [],
      "source": [
        "!wget http://mlatom.com/wp-content/uploads/2023/12/2023_workshop_Torun.zip -O 2023_workshop_Torun.zip\n",
        "!unzip 2023_workshop_Torun.zip"
      ]
    },
    {
      "cell_type": "markdown",
      "metadata": {
        "id": "K0uIUz4REC88"
      },
      "source": [
        "# Install and use MLatom"
      ]
    },
    {
      "cell_type": "markdown",
      "metadata": {
        "id": "4f4CHsR-fFhv"
      },
      "source": [
        "Install MLatom via PyPI"
      ]
    },
    {
      "cell_type": "code",
      "execution_count": null,
      "metadata": {
        "id": "7HsrZ8QndSpO"
      },
      "outputs": [],
      "source": [
        "!pip install mlatom"
      ]
    },
    {
      "cell_type": "markdown",
      "source": [
        "To use KREG_API in Colab:"
      ],
      "metadata": {
        "id": "quMhsj6RB1n-"
      }
    },
    {
      "cell_type": "code",
      "source": [
        "!wget http://mlatom.com/wp-content/uploads/2023/12/fortran.zip\n",
        "!unzip fortran.zip -d /usr/local/lib/python3.10/dist-packages/mlatom/"
      ],
      "metadata": {
        "id": "LpVtf9TTBz7Z"
      },
      "execution_count": null,
      "outputs": []
    },
    {
      "cell_type": "markdown",
      "metadata": {
        "id": "SVS40y5jfLl-"
      },
      "source": [
        "Run MLatom in command line:"
      ]
    },
    {
      "cell_type": "code",
      "execution_count": null,
      "metadata": {
        "id": "qTOmyqp6deoh"
      },
      "outputs": [],
      "source": [
        "!mlatom"
      ]
    },
    {
      "cell_type": "markdown",
      "metadata": {
        "id": "_Cf-boD9fQeO"
      },
      "source": [
        "Run MLatom in Python:"
      ]
    },
    {
      "cell_type": "code",
      "execution_count": null,
      "metadata": {
        "id": "dTCmnjpvdV0i"
      },
      "outputs": [],
      "source": [
        "import mlatom as ml"
      ]
    },
    {
      "cell_type": "markdown",
      "source": [
        "# Run this tutorial on XACS cloud\n",
        "\n",
        "You can also run this tutorial on XACS cloud (https://xacs.xmu.edu.cn/newcloud/), where some extra programs are already install to enable features like AIQM1 method.\n",
        "\n",
        "Necessary files can be found in ``/export/home/xacscloud/workshop2023/2023_workshop_Torun/`` once you enter the terminal on XACS cloud.\n",
        "\n",
        "You can copy the folder to your directory:\n",
        "\n",
        "``cp -r /export/home/xacscloud/workshop2023/2023_workshop_Torun/ .``\n",
        "\n",
        "Then set up the environment:\n",
        "\n",
        "``cd 2023_workshop_Torun && . env.sh``\n",
        "\n",
        "You can submit command-line jobs with:\n",
        "\n",
        "``xacs submit xxx.inp``\n",
        "\n",
        "or\n",
        "\n",
        "``srun -c4 mlatom xxx.inp``\n",
        "\n",
        "Python jobs with:\n",
        "\n",
        "``srun -c4 xxx.py``\n",
        "\n",
        "or run Python interactively:\n",
        "\n",
        "``srun -c4 --pty python``\n",
        "\n"
      ],
      "metadata": {
        "id": "dUM9bepPEkoU"
      }
    },
    {
      "cell_type": "markdown",
      "metadata": {
        "id": "RhU86mUkvRiU"
      },
      "source": [
        "# Train and use models for hydrogen molecule"
      ]
    },
    {
      "cell_type": "markdown",
      "metadata": {
        "id": "_Pn1XsHTDTLW"
      },
      "source": [
        "## KREG"
      ]
    },
    {
      "cell_type": "code",
      "execution_count": null,
      "metadata": {
        "id": "2XVtvPSF1Cfm"
      },
      "outputs": [],
      "source": [
        "!cat h2_train_KREG.inp"
      ]
    },
    {
      "cell_type": "code",
      "execution_count": null,
      "metadata": {
        "id": "gQitwMzxyGLX"
      },
      "outputs": [],
      "source": [
        "!mlatom h2_train_KREG.inp"
      ]
    },
    {
      "cell_type": "code",
      "execution_count": null,
      "metadata": {
        "id": "pG-Jq4vPv4qI"
      },
      "outputs": [],
      "source": [
        "import mlatom as ml\n",
        "\n",
        "# load data set\n",
        "molDB = ml.data.molecular_database.from_xyz_file('h2.xyz')\n",
        "molDB.add_scalar_properties_from_file('E_FCI_451.dat', 'energy')\n",
        "\n",
        "# define the model\n",
        "model = ml.models.kreg(model_file='energies')\n",
        "\n",
        "# split data set for optimizing hyperparameters\n",
        "[subtraining_molDB, validation_molDB] = ml.data.sample(number_of_splits=2, fraction_of_points_in_splits=[0.8, 0.2], molecular_database_to_split=molDB, sampling='random')\n",
        "\n",
        "# optimize hyperparameters\n",
        "model.hyperparameters[\"sigma\"].minval = 2**-4\n",
        "model.optimize_hyperparameters(subtraining_molecular_database=subtraining_molDB,\n",
        "                                     validation_molecular_database=validation_molDB,\n",
        "                                     optimization_algorithm='nelder-mead',\n",
        "                                     hyperparameters=['lambda', 'sigma'],\n",
        "                                     training_kwargs={'property_to_learn': 'energy'},\n",
        "                                     prediction_kwargs=None)\n",
        "lmbd = model.hyperparameters['lambda'].value\n",
        "sigma = model.hyperparameters['sigma'].value\n",
        "print(f'Optimized hyperparameters: lambda={lmbd}, sigma={sigma}')\n",
        "\n",
        "# train the final model\n",
        "model.train(molecular_database=molDB, property_to_learn='energy')"
      ]
    },
    {
      "cell_type": "code",
      "execution_count": null,
      "metadata": {
        "id": "6GL8RdvW288f"
      },
      "outputs": [],
      "source": [
        "!cat h2_opt_KREG.inp\n",
        "!echo -------------------------------------------------------------------\n",
        "!cat h2_init.xyz"
      ]
    },
    {
      "cell_type": "code",
      "execution_count": null,
      "metadata": {
        "id": "VnimclB47PIS"
      },
      "outputs": [],
      "source": [
        "!mlatom h2_opt_KREG.inp"
      ]
    },
    {
      "cell_type": "code",
      "execution_count": null,
      "metadata": {
        "id": "DU_Z7jq77R9L"
      },
      "outputs": [],
      "source": [
        "!cat eq_KREG.xyz"
      ]
    },
    {
      "cell_type": "code",
      "execution_count": null,
      "metadata": {
        "id": "_pEG6v8bv4qJ"
      },
      "outputs": [],
      "source": [
        "import mlatom as ml\n",
        "\n",
        "# load initial geometry\n",
        "mol = ml.data.molecule.from_xyz_file('h2_init.xyz')\n",
        "print(mol.get_xyz_string())\n",
        "\n",
        "# load the model\n",
        "model = ml.models.kreg(model_file='energies')\n",
        "\n",
        "# run geometry optimization\n",
        "ml.optimize_geometry(model=model, molecule=mol, program='ASE')\n",
        "print(mol.get_xyz_string())"
      ]
    },
    {
      "cell_type": "markdown",
      "metadata": {
        "id": "WA2-Eb0hDZ8I"
      },
      "source": [
        "## TorchANI"
      ]
    },
    {
      "cell_type": "code",
      "execution_count": null,
      "metadata": {
        "id": "2fJPBvs_C3Wb"
      },
      "outputs": [],
      "source": [
        "!cat h2_train_ANI.inp"
      ]
    },
    {
      "cell_type": "code",
      "execution_count": null,
      "metadata": {
        "id": "3bJGzeuqC86D"
      },
      "outputs": [],
      "source": [
        "!mlatom h2_train_ANI.inp"
      ]
    },
    {
      "cell_type": "code",
      "execution_count": null,
      "metadata": {
        "id": "hk4oeOQAv4qK"
      },
      "outputs": [],
      "source": [
        "import mlatom as ml\n",
        "\n",
        "# load data set\n",
        "molDB = ml.data.molecular_database.from_xyz_file('h2.xyz')\n",
        "molDB.add_scalar_properties_from_file('E_FCI_451.dat', 'energy')\n",
        "\n",
        "# define the model\n",
        "model = ml.models.ani(model_file='energies_ani_api.pt', hyperparameters={'max_epochs': 16})\n",
        "\n",
        "# train the final model\n",
        "model.train(molecular_database=molDB, property_to_learn='energy')"
      ]
    },
    {
      "cell_type": "code",
      "execution_count": null,
      "metadata": {
        "id": "YiSIigViC7ws"
      },
      "outputs": [],
      "source": [
        "!cat h2_opt_ANI.inp"
      ]
    },
    {
      "cell_type": "code",
      "execution_count": null,
      "metadata": {
        "id": "F53YDZVNDDVl"
      },
      "outputs": [],
      "source": [
        "!mlatom h2_opt_ANI.inp"
      ]
    },
    {
      "cell_type": "code",
      "execution_count": null,
      "metadata": {
        "id": "esGq6vJvC-9g"
      },
      "outputs": [],
      "source": [
        "!cat eq_ANI.xyz"
      ]
    },
    {
      "cell_type": "code",
      "execution_count": null,
      "metadata": {
        "id": "csPcufI-v4qK"
      },
      "outputs": [],
      "source": [
        "import mlatom as ml\n",
        "\n",
        "# load initial geometry\n",
        "mol = ml.data.molecule.from_xyz_file('h2_init.xyz')\n",
        "print(mol.get_xyz_string())\n",
        "\n",
        "# load the model\n",
        "model = ml.models.ani(model_file='energies_ani_api.pt')\n",
        "\n",
        "# run geometry optimization\n",
        "ml.optimize_geometry(model=model, molecule=mol, program='ASE')\n",
        "print(mol.get_xyz_string())"
      ]
    },
    {
      "cell_type": "markdown",
      "metadata": {
        "id": "NpV4v1CjveKy"
      },
      "source": [
        "# Estimate model accuracy"
      ]
    },
    {
      "cell_type": "markdown",
      "metadata": {
        "id": "NSziOFXBv4qL"
      },
      "source": [
        "## KREG"
      ]
    },
    {
      "cell_type": "code",
      "execution_count": null,
      "metadata": {
        "id": "h3AySfS9v4qL"
      },
      "outputs": [],
      "source": [
        "!cat ethanol_estAcc_KREG.inp"
      ]
    },
    {
      "cell_type": "code",
      "execution_count": null,
      "metadata": {
        "id": "KaFxACjMv4qL"
      },
      "outputs": [],
      "source": [
        "!mlatom ethanol_estAcc_KREG.inp"
      ]
    },
    {
      "cell_type": "markdown",
      "metadata": {
        "id": "NzwlfdnAv4qL"
      },
      "source": [
        "## TorchANI"
      ]
    },
    {
      "cell_type": "code",
      "execution_count": null,
      "metadata": {
        "id": "Z9cKdzhsv4qL"
      },
      "outputs": [],
      "source": [
        "!cat ethanol_estAcc_ANI.inp"
      ]
    },
    {
      "cell_type": "code",
      "execution_count": null,
      "metadata": {
        "id": "c6KMwU4Uv4qM"
      },
      "outputs": [],
      "source": [
        "!mlatom ethanol_estAcc_ANI.inp # this training will take a lot of time"
      ]
    },
    {
      "cell_type": "markdown",
      "metadata": {
        "id": "IFmP8FByv4qM"
      },
      "source": [
        "# Methods"
      ]
    },
    {
      "cell_type": "code",
      "execution_count": null,
      "metadata": {
        "id": "tk418hlav4qM"
      },
      "outputs": [],
      "source": [
        "!cat h2_vinylacetylene_init.xyz"
      ]
    },
    {
      "cell_type": "markdown",
      "metadata": {
        "id": "B5_qXB6rv4qM"
      },
      "source": [
        "## ANI-1ccx"
      ]
    },
    {
      "cell_type": "code",
      "execution_count": null,
      "metadata": {
        "id": "rTjUWl5sv4qS"
      },
      "outputs": [],
      "source": [
        "!cat h2_vinylacetylene_opt_ANI1ccx.inp"
      ]
    },
    {
      "cell_type": "code",
      "execution_count": null,
      "metadata": {
        "id": "q3xkE6xlv4qS"
      },
      "outputs": [],
      "source": [
        "!mlatom h2_vinylacetylene_opt_ANI1ccx.inp"
      ]
    },
    {
      "cell_type": "code",
      "execution_count": null,
      "metadata": {
        "id": "fb-RIvGuv4qS"
      },
      "outputs": [],
      "source": [
        "import mlatom as ml\n",
        "from mlatom import constants\n",
        "# load initial geometries\n",
        "molDB = ml.data.molecular_database.from_xyz_file('h2_vinylacetylene_init.xyz')\n",
        "# define the model with methods\n",
        "model = ml.models.methods(method='ANI-1ccx')\n",
        "for mol in molDB:\n",
        "    print(mol.get_xyz_string())\n",
        "    # run geometry optimization\n",
        "    ml.optimize_geometry(model=model, molecule=mol, program='ASE')\n",
        "    print(mol.get_xyz_string())"
      ]
    },
    {
      "cell_type": "code",
      "execution_count": null,
      "metadata": {
        "id": "X3WaQSk2v4qS"
      },
      "outputs": [],
      "source": [
        "!cat h2_vinylacetylene_freq_ANI1ccx.inp"
      ]
    },
    {
      "cell_type": "code",
      "execution_count": null,
      "metadata": {
        "id": "E_Re9q8zv4qS"
      },
      "outputs": [],
      "source": [
        "!mlatom h2_vinylacetylene_freq_ANI1ccx.inp"
      ]
    },
    {
      "cell_type": "code",
      "execution_count": null,
      "metadata": {
        "id": "5WprfHK0v4qS"
      },
      "outputs": [],
      "source": [
        "import mlatom as ml\n",
        "from mlatom import constants\n",
        "# load initial geometries\n",
        "molDB = ml.data.molecular_database.from_xyz_file('final_ANI1ccx.xyz')\n",
        "molDB[0].shape = 'linear'\n",
        "# define the model with methods\n",
        "model = ml.models.methods(method='ANI-1ccx')\n",
        "for mol in molDB:\n",
        "    ml.thermochemistry(model=model, molecule=mol, program='ASE')\n",
        "    fmt = ' %-41s: %15.5f Hartree'\n",
        "    print(fmt % ('Standard deviation of NNs', mol.ani1ccx.energy_standard_deviation), end='')\n",
        "    print(' %15.5f kcal/mol' % (mol.ani1ccx.energy_standard_deviation * constants.Hartree2kcalpermol))\n",
        "    print(fmt % ('ZPE-exclusive internal energy at      0 K', mol.energy))\n",
        "    print(fmt % ('Zero-point vibrational energy', mol.ZPE))\n",
        "    print(fmt % ('Internal energy                  at   0 K', mol.U0))\n",
        "    print(fmt % ('Enthalpy                         at 298 K', mol.H))\n",
        "    print(fmt % ('Gibbs free energy                at 298 K', mol.G))\n",
        "    if 'DeltaHf298' in mol.__dict__:\n",
        "        print('')\n",
        "        fmt = ' %-41s: %15.5f Hartree %15.5f kcal/mol'\n",
        "        print(fmt % ('Atomization enthalpy             at   0 K', mol.atomization_energy_0K, mol.atomization_energy_0K * constants.Hartree2kcalpermol))\n",
        "        print(fmt % ('ZPE-exclusive atomization energy at   0 K', mol.ZPE_exclusive_atomization_energy_0K, mol.ZPE_exclusive_atomization_energy_0K * constants.Hartree2kcalpermol))\n",
        "        print(fmt % ('Heat of formation                at 298 K', mol.DeltaHf298, mol.DeltaHf298 * constants.Hartree2kcalpermol))\n",
        "        if mol.ani1ccx.energy_standard_deviation > 1.68*constants.kcalpermol2Hartree:\n",
        "            print(' * Warning * Heat of formation have high uncertainty!')"
      ]
    },
    {
      "cell_type": "markdown",
      "metadata": {
        "id": "X2xfyjFlv4qT"
      },
      "source": [
        "## AIQM1"
      ]
    },
    {
      "cell_type": "markdown",
      "metadata": {
        "id": "5a8gASx4v4qT"
      },
      "source": [
        "To use AIQM1, extra programs are required. Please move from Colab to XACS cloud (https://xacs.xmu.edu.cn/newcloud/).\n",
        "Necessary files can be found in /export/home/xacscloud/workshop2023/2023_workshop_Torun/"
      ]
    },
    {
      "cell_type": "code",
      "execution_count": null,
      "metadata": {
        "id": "KqCSy5sPv4qT"
      },
      "outputs": [],
      "source": [
        "!cat h2_vinylacetylene_opt_AIQM1.inp"
      ]
    },
    {
      "cell_type": "code",
      "execution_count": null,
      "metadata": {
        "id": "s-8c36awv4qT"
      },
      "outputs": [],
      "source": [
        "!mlatom h2_vinylacetylene_opt_AIQM1.inp"
      ]
    },
    {
      "cell_type": "code",
      "execution_count": null,
      "metadata": {
        "id": "qiVtEMnnv4qT"
      },
      "outputs": [],
      "source": [
        "import mlatom as ml\n",
        "from mlatom import constants\n",
        "# load initial geometries\n",
        "molDB = ml.data.molecular_database.from_xyz_file('h2_vinylacetylene_init.xyz')\n",
        "molDB[0].shape = 'linear'\n",
        "# define the model with methods\n",
        "model = ml.models.methods(method='AIQM1')\n",
        "for mol in molDB:\n",
        "    print(mol.get_xyz_string())\n",
        "    # run geometry optimization\n",
        "    ml.optimize_geometry(model=model, molecule=mol, program='ASE')\n",
        "    print(mol.get_xyz_string())"
      ]
    },
    {
      "cell_type": "code",
      "execution_count": null,
      "metadata": {
        "id": "_V-hrQN_v4qT"
      },
      "outputs": [],
      "source": [
        "!cat h2_vinylacetylene_freq_AIQM1.inp"
      ]
    },
    {
      "cell_type": "code",
      "execution_count": null,
      "metadata": {
        "id": "xEMUlx0kv4qT"
      },
      "outputs": [],
      "source": [
        "!mlatom h2_vinylacetylene_freq_AIQM1.inp"
      ]
    },
    {
      "cell_type": "code",
      "execution_count": null,
      "metadata": {
        "id": "I8EKHg6nv4qU"
      },
      "outputs": [],
      "source": [
        "import mlatom as ml\n",
        "from mlatom import constants\n",
        "# load initial geometries\n",
        "molDB = ml.data.molecular_database.from_xyz_file('final_AIQM1.xyz')\n",
        "molDB[0].shape = 'linear'\n",
        "# define the model with methods\n",
        "model = ml.models.methods(method='AIQM1')\n",
        "for mol in molDB:\n",
        "    # run thermochemistry calculations\n",
        "    ml.thermochemistry(model=model, molecule=mol, program='ASE')\n",
        "    fmt = ' %-41s: %15.5f Hartree'\n",
        "    print(fmt % ('Standard deviation of NN contribution', mol.aiqm1_nn.energy_standard_deviation), end='')\n",
        "    print(' %15.5f kcal/mol' % (mol.aiqm1_nn.energy_standard_deviation * constants.Hartree2kcalpermol))\n",
        "    print(fmt % ('NN contribution', mol.aiqm1_nn.energy))\n",
        "    print(fmt % ('Sum of atomic self energies', mol.aiqm1_atomic_energy_shift.energy))\n",
        "    print(fmt % ('ODM2* contribution', mol.odm2star.energy))\n",
        "    print(fmt % ('D4 contribution', mol.d4_wb97x.energy))\n",
        "    print(fmt % ('Total energy', mol.energy))\n",
        "    print(fmt % ('ZPE-exclusive internal energy at      0 K', mol.energy))\n",
        "    print(fmt % ('Zero-point vibrational energy', mol.ZPE))\n",
        "    print(fmt % ('Internal energy                  at   0 K', mol.U0))\n",
        "    print(fmt % ('Enthalpy                         at 298 K', mol.H))\n",
        "    print(fmt % ('Gibbs free energy                at 298 K', mol.G))\n",
        "    if 'DeltaHf298' in mol.__dict__:\n",
        "        print('')\n",
        "        fmt = ' %-41s: %15.5f Hartree %15.5f kcal/mol'\n",
        "        print(fmt % ('Atomization enthalpy             at   0 K', mol.atomization_energy_0K, mol.atomization_energy_0K * constants.Hartree2kcalpermol))\n",
        "        print(fmt % ('ZPE-exclusive atomization energy at   0 K', mol.ZPE_exclusive_atomization_energy_0K, mol.ZPE_exclusive_atomization_energy_0K * constants.Hartree2kcalpermol))\n",
        "        print(fmt % ('Heat of formation                at 298 K', mol.DeltaHf298, mol.DeltaHf298 * constants.Hartree2kcalpermol))\n",
        "        if mol.aiqm1_nn.energy_standard_deviation > 0.41*constants.kcalpermol2Hartree:\n",
        "            print(' * Warning * Heat of formation have high uncertainty!')"
      ]
    },
    {
      "cell_type": "markdown",
      "metadata": {
        "id": "I_1rO9oEv4qU"
      },
      "source": [
        "## B3LYP"
      ]
    },
    {
      "cell_type": "code",
      "execution_count": null,
      "metadata": {
        "id": "frX0L1mpv4qU"
      },
      "outputs": [],
      "source": [
        "!cat h2_vinylacetylene_opt_B3LYP.inp"
      ]
    },
    {
      "cell_type": "code",
      "execution_count": null,
      "metadata": {
        "id": "TDtLLF9Uv4qU"
      },
      "outputs": [],
      "source": [
        "!mlatom h2_vinylacetylene_opt_B3LYP.inp"
      ]
    },
    {
      "cell_type": "code",
      "execution_count": null,
      "metadata": {
        "id": "b3gz5JGDv4qU"
      },
      "outputs": [],
      "source": [
        "import mlatom as ml\n",
        "import numpy as np\n",
        "# load initial geometries\n",
        "molDB = ml.data.molecular_database.from_xyz_file('h2_vinylacetylene_init.xyz')\n",
        "molDB[0].shape = 'linear'\n",
        "# define the model with methods\n",
        "model = ml.models.methods(method='B3LYP/6-31G*', program='PySCF')\n",
        "for mol in molDB:\n",
        "    print(mol.get_xyz_string())\n",
        "    # run geometry optimization\n",
        "    ml.optimize_geometry(model=model, molecule=mol, program='ASE')\n",
        "    print(mol.get_xyz_string())"
      ]
    },
    {
      "cell_type": "code",
      "execution_count": null,
      "metadata": {
        "id": "J08PVHkPv4qU"
      },
      "outputs": [],
      "source": [
        "!cat h2_vinylacetylene_freq_B3LYP.inp"
      ]
    },
    {
      "cell_type": "code",
      "execution_count": null,
      "metadata": {
        "id": "TJsPulRYv4qV"
      },
      "outputs": [],
      "source": [
        "!mlatom h2_vinylacetylene_freq_B3LYP.inp"
      ]
    },
    {
      "cell_type": "code",
      "execution_count": null,
      "metadata": {
        "id": "pvHB66rLv4qV"
      },
      "outputs": [],
      "source": [
        "import mlatom as ml\n",
        "import numpy as np\n",
        "# load initial geometries\n",
        "molDB = ml.data.molecular_database.from_xyz_file('final_B3LYP.xyz')\n",
        "molDB[0].shape = 'linear'\n",
        "# define the model with methods\n",
        "model = ml.models.methods(method='B3LYP/6-31G*', program='PySCF')\n",
        "for mol in molDB:\n",
        "    # run thermochemistry calculations\n",
        "    ml.thermochemistry(model=model, molecule=mol, program='ASE')\n",
        "    fmt = ' %-41s: %15.5f Hartree'\n",
        "    print(fmt % ('ZPE-exclusive internal energy at      0 K', mol.energy))\n",
        "    print(fmt % ('Zero-point vibrational energy', mol.ZPE))\n",
        "    print(fmt % ('Internal energy                  at   0 K', mol.U0))\n",
        "    print(fmt % ('Enthalpy                         at 298 K', mol.H))\n",
        "    print(fmt % ('Gibbs free energy                at 298 K', mol.G))\n"
      ]
    },
    {
      "cell_type": "markdown",
      "metadata": {
        "id": "LM9h-BqcvdHZ"
      },
      "source": [
        "# Molecular dynamics"
      ]
    },
    {
      "cell_type": "markdown",
      "metadata": {
        "id": "cerXNwBlv4qV"
      },
      "source": [
        "※ you need to have a KREG model trained in the previous section before running MD."
      ]
    },
    {
      "cell_type": "code",
      "execution_count": null,
      "metadata": {
        "id": "bhXrhc0LGrlF"
      },
      "outputs": [],
      "source": [
        "!cat h2_md_kreg.inp"
      ]
    },
    {
      "cell_type": "code",
      "execution_count": null,
      "metadata": {
        "id": "HMacIOtov4qW"
      },
      "outputs": [],
      "source": [
        "!cat h2_md_kreg_init.xyz"
      ]
    },
    {
      "cell_type": "code",
      "execution_count": null,
      "metadata": {
        "id": "VqPWQGS8v4qW"
      },
      "outputs": [],
      "source": [
        "!mlatom h2_md_kreg.inp"
      ]
    },
    {
      "cell_type": "code",
      "execution_count": null,
      "metadata": {
        "id": "dm0qXSJSv4qW"
      },
      "outputs": [],
      "source": [
        "!cat traj.xyz"
      ]
    },
    {
      "cell_type": "code",
      "execution_count": null,
      "metadata": {
        "id": "VqoGphAjv4qW"
      },
      "outputs": [],
      "source": [
        "import mlatom as ml\n",
        "\n",
        "# Get initial condition\n",
        "mol = ml.data.molecule.from_xyz_file('h2_md_kreg_init.xyz')\n",
        "init_cond_db = ml.generate_initial_conditions(molecule = mol,\n",
        "                                              generation_method = 'user-defined',\n",
        "                                              file_with_initial_xyz_coordinates = 'h2_md_kreg_init.xyz',\n",
        "                                              file_with_initial_xyz_velocities  = 'h2_md_kreg_init.vxyz')\n",
        "init_mol = init_cond_db[0]\n",
        "\n",
        "# Initialize model\n",
        "model = ml.models.kreg(model_file='energies.unf', ml_program='MLatomF')\n",
        "# model = ml.models.kreg(model_file='energies.unf', ml_program='MLatomF') # use KREG model from MLatomF\n",
        "# model = ml.models.ani(model_file='energies_ani.pt')                     # or use an ANI model\n",
        "\n",
        "# Run molecular dynamics\n",
        "dyn = ml.md(model=model,\n",
        "            molecule_with_initial_conditions = init_mol,\n",
        "            ensemble='NVE',\n",
        "            time_step=0.3,\n",
        "            maximum_propagation_time = 30.0)\n",
        "\n",
        "# Dump trajectory\n",
        "traj = dyn.molecular_trajectory\n",
        "traj.dump(filename='traj', format='plain_text')\n",
        "traj.dump(filename='traj.h5', format='h5md')\n",
        "\n"
      ]
    },
    {
      "cell_type": "markdown",
      "metadata": {
        "id": "HNGJJbTPveom"
      },
      "source": [
        "# Spectroscopy"
      ]
    },
    {
      "cell_type": "markdown",
      "metadata": {
        "id": "I-k6L8pyv4qX"
      },
      "source": [
        "## Power spectra"
      ]
    },
    {
      "cell_type": "code",
      "execution_count": null,
      "metadata": {
        "id": "13Cg3lcfv4qX"
      },
      "outputs": [],
      "source": [
        "!cat ethanol_ps.inp"
      ]
    },
    {
      "cell_type": "code",
      "execution_count": null,
      "metadata": {
        "id": "UbIBrOPYv4qX"
      },
      "outputs": [],
      "source": [
        "!mlatom ethanol_ps.inp"
      ]
    },
    {
      "cell_type": "code",
      "execution_count": null,
      "metadata": {
        "id": "uffPgD8Sv4qY"
      },
      "outputs": [],
      "source": [
        "from IPython.display import Image\n",
        "Image(filename='ps.png')"
      ]
    },
    {
      "cell_type": "markdown",
      "metadata": {
        "id": "ZSVZ-hWvv4qY"
      },
      "source": [
        "## IR spectra"
      ]
    },
    {
      "cell_type": "code",
      "execution_count": null,
      "metadata": {
        "id": "EoqvxwXYeoZt"
      },
      "outputs": [],
      "source": [
        "!cat ethanol_ir.inp"
      ]
    },
    {
      "cell_type": "code",
      "execution_count": null,
      "metadata": {
        "id": "2N4Ausrrv4qY"
      },
      "outputs": [],
      "source": [
        "!mlatom ethanol_ir.inp"
      ]
    },
    {
      "cell_type": "code",
      "execution_count": null,
      "metadata": {
        "id": "dLu8Rog5v4qZ"
      },
      "outputs": [],
      "source": [
        "from IPython.display import Image\n",
        "Image(filename='ir.png')"
      ]
    },
    {
      "cell_type": "code",
      "execution_count": null,
      "metadata": {
        "id": "7lMpBuhwv4qZ"
      },
      "outputs": [],
      "source": [
        "import mlatom as ml\n",
        "\n",
        "traj = ml.data.molecular_trajectory()\n",
        "traj.load('ethanol_traj.h5',format='h5md')\n",
        "dt = traj.steps[1].time - traj.steps[0].time\n",
        "moldb = ml.data.molecular_database()\n",
        "moldb.molecules = [each.molecule for each in traj.steps]\n",
        "\n",
        "vib = ml.vibrational_spectrum(molecular_database=moldb, dt=dt)\n",
        "vib.plot_infrared_spectrum(filename='ir_api.png')\n",
        "\n",
        "from IPython.display import Image\n",
        "Image(filename='ir_api.png')"
      ]
    }
  ],
  "metadata": {
    "colab": {
      "provenance": [],
      "include_colab_link": true
    },
    "kernelspec": {
      "display_name": "Python 3",
      "name": "python3"
    },
    "language_info": {
      "codemirror_mode": {
        "name": "ipython",
        "version": 3
      },
      "file_extension": ".py",
      "mimetype": "text/x-python",
      "name": "python",
      "nbconvert_exporter": "python",
      "pygments_lexer": "ipython3",
      "version": "3.11.5"
    }
  },
  "nbformat": 4,
  "nbformat_minor": 0
}